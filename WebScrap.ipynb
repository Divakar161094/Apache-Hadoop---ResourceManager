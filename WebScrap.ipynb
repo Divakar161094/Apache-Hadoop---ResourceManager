{
 "cells": [
  {
   "cell_type": "code",
   "execution_count": 33,
   "metadata": {},
   "outputs": [],
   "source": [
    "#This will not run on online IDE \n",
    "import requests \n",
    "from bs4 import BeautifulSoup\n",
    "import re\n",
    "import pandas as pd\n",
    "import json\n",
    "#http://10.237.179.51:8088/cluster"
   ]
  },
  {
   "cell_type": "code",
   "execution_count": 35,
   "metadata": {},
   "outputs": [],
   "source": [
    "#Requesting the data and storing in BeautifulSoup object\n",
    "URL = \"http://10.237.180.91:8088/cluster\"\n",
    "r = requests.get(URL) \n",
    "soup = BeautifulSoup(r.content, 'html5lib')\n",
    "\n",
    "#To check the HTML data\n",
    "#print(r)\n",
    "#print(soup.prettify())"
   ]
  },
  {
   "cell_type": "code",
   "execution_count": 37,
   "metadata": {},
   "outputs": [],
   "source": [
    "#Parsing only required table -metricsoverview\n",
    "My_table = soup.find('table',{'id' :\"metricsoverview\"})\n",
    "#My_table"
   ]
  },
  {
   "cell_type": "code",
   "execution_count": 39,
   "metadata": {},
   "outputs": [],
   "source": [
    "links_values = My_table.findAll('tr')\n",
    "#links_values"
   ]
  },
  {
   "cell_type": "code",
   "execution_count": 40,
   "metadata": {},
   "outputs": [],
   "source": [
    "link123 = links_values.copy()"
   ]
  },
  {
   "cell_type": "code",
   "execution_count": 41,
   "metadata": {},
   "outputs": [],
   "source": [
    "a = list(link123)\n",
    "#print(a[0])\n",
    "b = a[0]\n",
    "c = a[1]"
   ]
  },
  {
   "cell_type": "code",
   "execution_count": 42,
   "metadata": {},
   "outputs": [],
   "source": [
    "td = b.find_all('th')\n",
    "row1 = [i.text for i in td]\n",
    "#print(row1)"
   ]
  },
  {
   "cell_type": "code",
   "execution_count": 43,
   "metadata": {},
   "outputs": [],
   "source": [
    "td = c.find_all('td')\n",
    "row2 = [i.text for i in td]\n",
    "#print(row2)"
   ]
  },
  {
   "cell_type": "code",
   "execution_count": 44,
   "metadata": {},
   "outputs": [],
   "source": [
    "import re\n",
    "n=[]\n",
    "for i in row1:\n",
    "    x = re.sub(\"\\\\n\", \"\", i)\n",
    "    x = re.sub(\"                    \", \"\",x)\n",
    "    x = re.sub(\"                  \", \"\",x)\n",
    "    x.strip()\n",
    "    n.append(x)\n",
    "#print(n)"
   ]
  },
  {
   "cell_type": "code",
   "execution_count": 45,
   "metadata": {},
   "outputs": [],
   "source": [
    "import re\n",
    "m=[]\n",
    "for i in row2:\n",
    "    x = re.sub(\"\\\\n\", \"\", i)\n",
    "    x = re.sub(\"                    \", \"\",x)\n",
    "    x = re.sub(\"                  \", \"\",x)\n",
    "    x.strip()\n",
    "    m.append(x)\n",
    "#print(m)"
   ]
  },
  {
   "cell_type": "code",
   "execution_count": 46,
   "metadata": {},
   "outputs": [],
   "source": [
    "import pandas as pd\n",
    "df = pd.DataFrame(list(zip(n, m)), columns =['Name', 'val']) "
   ]
  },
  {
   "cell_type": "code",
   "execution_count": 47,
   "metadata": {},
   "outputs": [
    {
     "name": "stdout",
     "output_type": "stream",
     "text": [
      "                  Name     val\n",
      "0       Apps Submitted      12\n",
      "1         Apps Pending       0\n",
      "2         Apps Running       0\n",
      "3       Apps Completed      12\n",
      "4   Containers Running       0\n",
      "5          Memory Used     0 B\n",
      "6         Memory Total  520 GB\n",
      "7      Memory Reserved     0 B\n",
      "8          VCores Used       0\n",
      "9         VCores Total     288\n",
      "10     VCores Reserved       0\n"
     ]
    }
   ],
   "source": [
    "print(df)"
   ]
  },
  {
   "cell_type": "code",
   "execution_count": 48,
   "metadata": {},
   "outputs": [],
   "source": [
    "#https://datatofish.com/export-pandas-dataframe-json/\n",
    "df.to_json(r'C:\\Users\\1198472\\File_Name.json',orient='values')"
   ]
  },
  {
   "cell_type": "code",
   "execution_count": 51,
   "metadata": {},
   "outputs": [],
   "source": [
    "#Converting the data to json format.\n",
    "import json\n",
    "with open(r'C:\\Users\\1198472\\File_Name.json') as json_file:\n",
    "    data = json.load(json_file)\n",
    "data_dict = {car[0]:car[1] for car in data}\n",
    "metricsoverview = json.dumps(data_dict)"
   ]
  },
  {
   "cell_type": "code",
   "execution_count": 52,
   "metadata": {},
   "outputs": [
    {
     "name": "stdout",
     "output_type": "stream",
     "text": [
      "{\"Apps Submitted\": \"12\", \"Apps Pending\": \"0\", \"Apps Running\": \"0\", \"Apps Completed\": \"12\", \"Containers Running\": \"0\", \"Memory Used\": \"0 B\", \"Memory Total\": \"520 GB\", \"Memory Reserved\": \"0 B\", \"VCores Used\": \"0\", \"VCores Total\": \"288\", \"VCores Reserved\": \"0\"}\n"
     ]
    }
   ],
   "source": [
    "print(metricsoverview)"
   ]
  },
  {
   "cell_type": "code",
   "execution_count": 32,
   "metadata": {},
   "outputs": [],
   "source": [
    "#https://pandas.pydata.org/pandas-docs/stable/user_guide/merging.html\n",
    "#https://pandas.pydata.org/pandas-docs/stable/reference/api/pandas.DataFrame.set_index.html\n",
    "#https://pandas.pydata.org/pandas-docs/stable/reference/api/pandas.DataFrame.set_index.html"
   ]
  }
 ],
 "metadata": {
  "kernelspec": {
   "display_name": "Python 3",
   "language": "python",
   "name": "python3"
  },
  "language_info": {
   "codemirror_mode": {
    "name": "ipython",
    "version": 3
   },
   "file_extension": ".py",
   "mimetype": "text/x-python",
   "name": "python",
   "nbconvert_exporter": "python",
   "pygments_lexer": "ipython3",
   "version": "3.7.3"
  }
 },
 "nbformat": 4,
 "nbformat_minor": 2
}
