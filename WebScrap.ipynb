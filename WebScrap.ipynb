{
 "cells": [
  {
   "cell_type": "code",
   "execution_count": 1,
   "metadata": {},
   "outputs": [],
   "source": [
    "#This will not run on online IDE \n",
    "import requests \n",
    "from bs4 import BeautifulSoup\n",
    "import re\n",
    "import pandas as pd\n",
    "import os\n",
    "#http://10.237.179.51:8088/cluster"
   ]
  },
  {
   "cell_type": "code",
   "execution_count": null,
   "metadata": {},
   "outputs": [],
   "source": [
    "os.chdir(r\"C:\\Users\\Divakar\\Downloads\")\n",
    "os.getcwd()"
   ]
  },
  {
   "cell_type": "code",
   "execution_count": null,
   "metadata": {},
   "outputs": [],
   "source": [
    "URL = \"http://10.237.183.211:8088/cluster\"\n",
    "r = requests.get(URL) \n",
    "soup = BeautifulSoup(r.content, 'html5lib') \n",
    "#print(soup.prettify())"
   ]
  },
  {
   "cell_type": "code",
   "execution_count": 25,
   "metadata": {},
   "outputs": [],
   "source": [
    "#print(r)\n",
    "#print(soup.prettify())"
   ]
  },
  {
   "cell_type": "code",
   "execution_count": 11,
   "metadata": {},
   "outputs": [],
   "source": [
    "My_table = soup.find('table',{'id' :\"metricsoverview\"})\n",
    "#My_table"
   ]
  },
  {
   "cell_type": "code",
   "execution_count": 12,
   "metadata": {},
   "outputs": [],
   "source": [
    "links_values = My_table.findAll('tr')\n",
    "#links_values"
   ]
  },
  {
   "cell_type": "code",
   "execution_count": 13,
   "metadata": {},
   "outputs": [],
   "source": [
    "link123 = links_values.copy()"
   ]
  },
  {
   "cell_type": "code",
   "execution_count": 15,
   "metadata": {},
   "outputs": [],
   "source": [
    "a = list(link123)\n",
    "#print(a[0])\n",
    "b = a[0]\n",
    "c = a[1]"
   ]
  },
  {
   "cell_type": "code",
   "execution_count": 16,
   "metadata": {},
   "outputs": [],
   "source": [
    "td = b.find_all('th')\n",
    "row1 = [i.text for i in td]\n",
    "#print(row1)"
   ]
  },
  {
   "cell_type": "code",
   "execution_count": 17,
   "metadata": {},
   "outputs": [],
   "source": [
    "td = c.find_all('td')\n",
    "row2 = [i.text for i in td]\n",
    "#print(row2)"
   ]
  },
  {
   "cell_type": "code",
   "execution_count": 18,
   "metadata": {},
   "outputs": [],
   "source": [
    "import re\n",
    "n=[]\n",
    "for i in row1:\n",
    "    x = re.sub(\"\\\\n\", \"\", i)\n",
    "    x = re.sub(\"                    \", \"\",x)\n",
    "    x = re.sub(\"                  \", \"\",x)\n",
    "    x.strip()\n",
    "    n.append(x)\n",
    "#print(n)"
   ]
  },
  {
   "cell_type": "code",
   "execution_count": 19,
   "metadata": {},
   "outputs": [],
   "source": [
    "import re\n",
    "m=[]\n",
    "for i in row2:\n",
    "    x = re.sub(\"\\\\n\", \"\", i)\n",
    "    x = re.sub(\"                    \", \"\",x)\n",
    "    x = re.sub(\"                  \", \"\",x)\n",
    "    x.strip()\n",
    "    m.append(x)\n",
    "#print(m)"
   ]
  },
  {
   "cell_type": "code",
   "execution_count": 20,
   "metadata": {},
   "outputs": [],
   "source": [
    "import pandas as pd\n",
    "df = pd.DataFrame(list(zip(n, m)), columns =['Name', 'val']) "
   ]
  },
  {
   "cell_type": "code",
   "execution_count": 21,
   "metadata": {},
   "outputs": [
    {
     "name": "stdout",
     "output_type": "stream",
     "text": [
      "                  Name     val\n",
      "0       Apps Submitted       0\n",
      "1         Apps Pending       0\n",
      "2         Apps Running       0\n",
      "3       Apps Completed       0\n",
      "4   Containers Running       0\n",
      "5          Memory Used     0 B\n",
      "6         Memory Total  520 GB\n",
      "7      Memory Reserved     0 B\n",
      "8          VCores Used       0\n",
      "9         VCores Total     288\n",
      "10     VCores Reserved       0\n"
     ]
    }
   ],
   "source": [
    "print(df)"
   ]
  },
  {
   "cell_type": "code",
   "execution_count": null,
   "metadata": {},
   "outputs": [],
   "source": []
  }
 ],
 "metadata": {
  "kernelspec": {
   "display_name": "Python 3",
   "language": "python",
   "name": "python3"
  },
  "language_info": {
   "codemirror_mode": {
    "name": "ipython",
    "version": 3
   },
   "file_extension": ".py",
   "mimetype": "text/x-python",
   "name": "python",
   "nbconvert_exporter": "python",
   "pygments_lexer": "ipython3",
   "version": "3.7.3"
  }
 },
 "nbformat": 4,
 "nbformat_minor": 2
}
